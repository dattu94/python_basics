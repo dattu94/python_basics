{
 "cells": [
  {
   "cell_type": "markdown",
   "metadata": {},
   "source": [
    "\n",
    "##missing numbers in list"
   ]
  },
  {
   "cell_type": "code",
   "execution_count": null,
   "metadata": {},
   "outputs": [],
   "source": [
    "# ip = [1,2,3,4,6,7,10]\n",
    "#op= [5,8,9]\n",
    "def find_missing_numbers(lst):\n",
    "    return [x for x in range(lst[0],lst[-1]+1) if x not in lst]\n",
    "\n",
    "# Example usage\n",
    "numbers = [-21, 2, 4, 6, 7, 10]\n",
    "missing_numbers = find_missing_numbers(numbers)\n",
    "print(\"Missing numbers:\", missing_numbers)"
   ]
  },
  {
   "cell_type": "markdown",
   "metadata": {},
   "source": []
  },
  {
   "cell_type": "markdown",
   "metadata": {},
   "source": []
  }
 ],
 "metadata": {
  "kernelspec": {
   "display_name": "Python 3",
   "language": "python",
   "name": "python3"
  },
  "language_info": {
   "name": "python",
   "version": "3.12.7"
  }
 },
 "nbformat": 4,
 "nbformat_minor": 2
}
