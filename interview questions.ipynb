{
 "cells": [
  {
   "cell_type": "markdown",
   "id": "dfd64014-e8a7-433b-a607-e116705117b9",
   "metadata": {},
   "source": [
    "##change the nested list to normal list"
   ]
  },
  {
   "cell_type": "markdown",
   "id": "2c115967",
   "metadata": {},
   "source": []
  },
  {
   "cell_type": "code",
   "execution_count": 43,
   "id": "1f90a9d7-eccb-421e-93a5-52b5f79eddcf",
   "metadata": {},
   "outputs": [
    {
     "name": "stdout",
     "output_type": "stream",
     "text": [
      "[1, 2, [3, 4]]\n"
     ]
    }
   ],
   "source": [
    "my_list = [1, 2]\n",
    "my_list.append([3, 4])\n",
    "print(my_list)  # Output: [1, 2, [3, 4]]"
   ]
  },
  {
   "cell_type": "code",
   "execution_count": 2,
   "id": "c364e0fc-6059-4045-af41-da6b34783d7c",
   "metadata": {},
   "outputs": [
    {
     "name": "stdout",
     "output_type": "stream",
     "text": [
      "[1, 2, 3, 4]\n"
     ]
    }
   ],
   "source": [
    "my_list = [1, 2]\n",
    "my_list.extend([3, 4])\n",
    "print(my_list)  # Output: [1, 2, 3, 4]"
   ]
  },
  {
   "cell_type": "code",
   "execution_count": 2,
   "id": "361f347c-350b-4da6-8862-0f9c8e3f117c",
   "metadata": {},
   "outputs": [],
   "source": [
    "a= [1,[2,3],[4,[5,6,345],7,8]]"
   ]
  },
  {
   "cell_type": "code",
   "execution_count": 3,
   "id": "60367f4e-3843-4cda-9e7a-0911243caa38",
   "metadata": {},
   "outputs": [
    {
     "data": {
      "text/plain": [
       "[1, 2, 3, 4, 5, 6, 345, 7, 8]"
      ]
     },
     "execution_count": 3,
     "metadata": {},
     "output_type": "execute_result"
    }
   ],
   "source": [
    "def flatten(nested_list):\n",
    "    flat_list = []\n",
    "    for item in nested_list: \n",
    "        if isinstance(item, list):\n",
    "            flat_list.extend(flatten(item))  # Recursively flatten\n",
    "        else:\n",
    "            flat_list.append(item)\n",
    "    return flat_list\n",
    "    \n",
    "flat_list= flatten(a)\n",
    "flat_list"
   ]
  },
  {
   "cell_type": "markdown",
   "id": "162fcf41-992a-4be9-90b0-9b95f5a7cd24",
   "metadata": {},
   "source": [
    "check the given Json is valid or not"
   ]
  },
  {
   "cell_type": "code",
   "execution_count": 1,
   "id": "5e617c2b-e905-429e-8d33-4f3864af2069",
   "metadata": {},
   "outputs": [
    {
     "name": "stdout",
     "output_type": "stream",
     "text": [
      "Valid JSON\n"
     ]
    }
   ],
   "source": [
    "import json\n",
    "\n",
    "def is_valid_json(json_string):\n",
    "    try:\n",
    "        json.loads(json_string)  # Try to parse the JSON string\n",
    "        return True  # If no error, the JSON is valid\n",
    "    except Exception as e: #json.JSONDecodeError:\n",
    "        #print(\"invalid Json\")\n",
    "        return e  # If error, the JSON is invalid\n",
    "       \n",
    "\n",
    "# Example usage\n",
    "json_data = '{\"name\": \"John\", \"age\": 30, \"children\": [{\"name\": \"Doe\"}]}'\n",
    "\n",
    "if is_valid_json(json_data):\n",
    "    print(\"Valid JSON\")\n",
    "else:\n",
    "    print(\"Invalid JSON\")"
   ]
  },
  {
   "cell_type": "code",
   "execution_count": 2,
   "id": "261a2b01",
   "metadata": {},
   "outputs": [
    {
     "name": "stdout",
     "output_type": "stream",
     "text": [
      "Is the JSON string valid? True\n",
      "Invalid JSON: Expecting ',' delimiter: line 1 column 47 (char 46)\n",
      "Is the JSON string valid? False\n"
     ]
    }
   ],
   "source": [
    "import json\n",
    "\n",
    "def is_valid_json(json_string):\n",
    "    try:\n",
    "        json.loads(json_string)  # Try parsing the JSON string\n",
    "        return True\n",
    "    except json.JSONDecodeError as e:\n",
    "        print(f\"Invalid JSON: {e}\")\n",
    "        return False\n",
    "\n",
    "# Example Usage\n",
    "json_string = '{\"name\": \"John\", \"age\": 30, \"city\": \"New York\"}'  # Valid JSON\n",
    "print(f\"Is the JSON string valid? {is_valid_json(json_string)}\")\n",
    "\n",
    "invalid_json_string = '{\"name\": \"John\", \"age\": 30, \"city\": \"New York\"'  # Invalid JSON\n",
    "print(f\"Is the JSON string valid? {is_valid_json(invalid_json_string)}\")\n"
   ]
  },
  {
   "cell_type": "markdown",
   "id": "3b851bf8-3a2f-4c98-84d8-de25051f3d1f",
   "metadata": {},
   "source": [
    "# concatinate the list with another list"
   ]
  },
  {
   "cell_type": "code",
   "execution_count": 70,
   "id": "b844f9ad-f5c8-415a-a931-616e46bcdad3",
   "metadata": {},
   "outputs": [
    {
     "data": {
      "text/plain": [
       "[(1, 'apple'), (2, 'banana'), (3, 'coconut')]"
      ]
     },
     "execution_count": 70,
     "metadata": {},
     "output_type": "execute_result"
    }
   ],
   "source": [
    "a =[1,2,3]\n",
    "b=['apple', 'banana', 'coconut']\n",
    "c= zip(a,b)\n",
    "list(c)"
   ]
  },
  {
   "cell_type": "markdown",
   "id": "c3ef6b6e-84b4-4abd-b295-f9313caf97d1",
   "metadata": {},
   "source": [
    "# write a program to find the least positive number missing in the least"
   ]
  },
  {
   "cell_type": "code",
   "execution_count": 7,
   "id": "735a4c56-6a1e-489b-bdfe-8da819818f28",
   "metadata": {},
   "outputs": [
    {
     "name": "stdout",
     "output_type": "stream",
     "text": [
      "length of arr: 5\n",
      "first step\n",
      "array [6, 5, 2, 1, 500]\n",
      "0\n",
      "first step\n",
      "array [6, 5, 2, 1, 6]\n",
      "4\n",
      "The least missing positive number is: 3\n"
     ]
    }
   ],
   "source": [
    "def find_least_missing_positive(arr):\n",
    "    n = len(arr)\n",
    "    print(\"length of arr:\",n)\n",
    "    \n",
    "    # Step 1: Ignore non-positive numbers and numbers greater than n\n",
    "    for i in range(n):\n",
    "        if arr[i] <= 0 or arr[i] > n:\n",
    "            arr[i] = n + 1  # Set these numbers to something larger than n\n",
    "            print(\"first step\")\n",
    "            print(\"array\",arr)\n",
    "            print(i)\n",
    "            \n",
    "\n",
    "    # Step 2: Use the array index to mark the presence of numbers\n",
    "    for i in range(n):\n",
    "        num = abs(arr[i])\n",
    "        if num <= n:\n",
    "            \n",
    "            arr[num - 1] = -abs(arr[num - 1])  # Mark the index corresponding to the number as negative\n",
    "\n",
    "    # Step 3: Find the first missing positive number\n",
    "    for i in range(n):\n",
    "        if arr[i] > 0:\n",
    "            return i + 1  # Return the missing number (index + 1)\n",
    "            print(\"Return the missing number\")\n",
    "    # If no missing number was found, return n + 1\n",
    "    return n + 1\n",
    "\n",
    "# Example usage:\n",
    "arr = [-1, 5, 2, 1,500]\n",
    "#arr = [1,2,3,4]\n",
    "result = find_least_missing_positive(arr)\n",
    "print(\"The least missing positive number is:\", result)\n"
   ]
  },
  {
   "cell_type": "code",
   "execution_count": 101,
   "id": "64cfcd61-7db2-48ab-9729-860123e72262",
   "metadata": {},
   "outputs": [
    {
     "name": "stdout",
     "output_type": "stream",
     "text": [
      "The least missing positive number is: 5\n"
     ]
    }
   ],
   "source": [
    "def find_least_missing_positive(arr):\n",
    "    # Step 1: Create a set of positive numbers from the array\n",
    "    positive_numbers = set(num for num in arr if num > 0)\n",
    "    \n",
    "    # Step 2: Start checking from 1 upwards to find the first missing number\n",
    "    smallest_missing = 1\n",
    "    \n",
    "    while smallest_missing in positive_numbers:\n",
    "        smallest_missing += 1\n",
    "    \n",
    "    return smallest_missing\n",
    "\n",
    "# Example usage:\n",
    "arr = [-1, 3, 500, 2, 1,4]\n",
    "result = find_least_missing_positive(arr)\n",
    "print(\"The least missing positive number is:\", result)\n"
   ]
  },
  {
   "cell_type": "markdown",
   "id": "5ed22093-9658-4f9f-a83a-c17301a92dea",
   "metadata": {},
   "source": [
    "# write program to find the missing numbers in list"
   ]
  },
  {
   "cell_type": "code",
   "execution_count": 22,
   "id": "13172e14-d51a-4b45-b25b-9a9b085f6df3",
   "metadata": {},
   "outputs": [
    {
     "name": "stdout",
     "output_type": "stream",
     "text": [
      "Missing numbers: [-20, -19, -18, -17, -16, -15, -14, -13, -12, -11, -10, -9, -8, -7, -6, -5, -4, -3, -2, -1, 0, 1, 3, 5, 8, 9]\n"
     ]
    }
   ],
   "source": [
    "# ip = [1,2,3,4,6,7,10]\n",
    "#op= [5,8,9]\n",
    "def find_missing_numbers(lst):\n",
    "    return [x for x in range(lst[0],lst[-1]+1) if x not in lst]\n",
    "\n",
    "# Example usage\n",
    "numbers = [-21, 2, 4, 6, 7, 10]\n",
    "missing_numbers = find_missing_numbers(numbers)\n",
    "print(\"Missing numbers:\", missing_numbers)"
   ]
  },
  {
   "cell_type": "code",
   "execution_count": null,
   "id": "6710b689-e419-4fb0-96e2-125df576e864",
   "metadata": {},
   "outputs": [
    {
     "data": {
      "text/plain": [
       "[-2, -1, 0, 1, 2, 3, 4, 5, 6, 7, 8, 9, 10]"
      ]
     },
     "execution_count": 21,
     "metadata": {},
     "output_type": "execute_result"
    }
   ],
   "source": [
    "numbers = [-2,10, 2, 4, 6, 7]\n",
    "numbers.sort()\n",
    "least_num= numbers[0]\n",
    "max_num =numbers[-1]\n",
    "adding_number = least_num+1\n",
    "while adding_number<max_num:\n",
    "    if  adding_number in numbers:        \n",
    "        adding_number+=1\n",
    "    else:\n",
    "        numbers.append(adding_number)\n",
    "        adding_number+=1\n",
    "numbers.sort()  \n",
    "numbers   "
   ]
  },
  {
   "cell_type": "code",
   "execution_count": 35,
   "id": "ac7c7dd9",
   "metadata": {},
   "outputs": [
    {
     "name": "stdout",
     "output_type": "stream",
     "text": [
      "[-1, 0, 1, 3, 5]\n"
     ]
    }
   ],
   "source": [
    "numbers = [-2,10, 2, 4, 6, 7]\n",
    "def number(a):\n",
    "    number=numbers\n",
    "    miss_list=[]\n",
    "    [miss_list.append(i) for i in range(numbers[0],numbers[-1]+1) if i not in numbers]\n",
    "    print(miss_list)\n",
    "\n",
    "number(numbers)\n",
    "\n"
   ]
  }
 ],
 "metadata": {
  "kernelspec": {
   "display_name": "base",
   "language": "python",
   "name": "python3"
  },
  "language_info": {
   "codemirror_mode": {
    "name": "ipython",
    "version": 3
   },
   "file_extension": ".py",
   "mimetype": "text/x-python",
   "name": "python",
   "nbconvert_exporter": "python",
   "pygments_lexer": "ipython3",
   "version": "3.12.7"
  }
 },
 "nbformat": 4,
 "nbformat_minor": 5
}
